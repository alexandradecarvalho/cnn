{
 "cells": [
  {
   "cell_type": "code",
   "execution_count": 15,
   "metadata": {},
   "outputs": [],
   "source": [
    "from torch.nn import functional as F\n",
    "\n",
    "from PIL import Image\n",
    "from glob import glob\n",
    "from scipy.io import loadmat\n",
    "\n",
    "import torch.nn as nn\n",
    "import torchvision.transforms as transforms\n",
    "import matplotlib.pyplot as plt\n",
    "import numpy as np\n",
    "import torch.utils.data as data\n",
    "#import torchvision.transforms.functional as F\n",
    "\n",
    "import torch\n",
    "import torchvision\n",
    "import os\n",
    "import random"
   ]
  },
  {
   "cell_type": "markdown",
   "metadata": {},
   "source": [
    "#### Load the data"
   ]
  },
  {
   "cell_type": "code",
   "execution_count": 10,
   "metadata": {},
   "outputs": [],
   "source": [
    "class Crowd(data.Dataset):\n",
    "    def __init__(self, root_path, crop_size, downsample_ratio=8):\n",
    "        self.root_path = root_path\n",
    "        self.trans = transforms.Compose([transforms.ToTensor(),transforms.Normalize([0.485, 0.456, 0.406], [0.229, 0.224, 0.225])]) # transform to Tensors of normalized range [-1, 1]\n",
    "        self.im_list = sorted(glob(os.path.join(self.root_path, '*.jpg')))\n",
    "        self.annot_list = sorted(glob(os.path.join(self.root_path, '*.mat')))\n",
    "        print('number of img: {}'.format(len(self.im_list))) \n",
    "\n",
    "\n",
    "    def __len__(self):\n",
    "        return len(self.im_list)\n",
    "\n",
    "    def __getitem__(self, item):\n",
    "        img_path = self.im_list[item]\n",
    "        ann_path = img_path.replace('.jpg', '_ann.mat')\n",
    "        img = Image.open(img_path).convert('RGB')\n",
    "        keypoints = loadmat(ann_path)['annPoints']\n",
    "        img = self.trans(img)\n",
    "        name = os.path.basename(img_path).split('.')[0]\n",
    "        return img, len(keypoints), name"
   ]
  },
  {
   "cell_type": "code",
   "execution_count": 11,
   "metadata": {},
   "outputs": [
    {
     "name": "stdout",
     "output_type": "stream",
     "text": [
      "Downloading https://www.cs.toronto.edu/~kriz/cifar-10-python.tar.gz to ./data/cifar-10-python.tar.gz\n"
     ]
    },
    {
     "name": "stderr",
     "output_type": "stream",
     "text": [
      "170499072it [00:23, 7261278.31it/s]                                \n"
     ]
    },
    {
     "name": "stdout",
     "output_type": "stream",
     "text": [
      "Extracting ./data/cifar-10-python.tar.gz to ./data\n",
      "Files already downloaded and verified\n"
     ]
    }
   ],
   "source": [
    "# Device configuration\n",
    "device = torch.device('cuda' if torch.cuda.is_available() else 'cpu')\n",
    "\n",
    "# Hyper-parameters \n",
    "num_epochs = 5\n",
    "batch_size = 4\n",
    "learning_rate = 0.001\n",
    "downsample_ratio=8\n",
    "crop_size = 512\n",
    "\n",
    "#train_dataset = Crowd('data/Train/', crop_size, downsample_ratio)\n",
    "#test_dataset = Crowd('data/Test/', crop_size, downsample_ratio)\n",
    "\n",
    "transformation = transforms.Compose([transforms.ToTensor(), transforms.Normalize([0.485, 0.456, 0.406], [0.229, 0.224, 0.225])])\n",
    "train_dataset = torchvision.datasets.CIFAR10(root='./data', train=True, download=True, transform =transformation)\n",
    "test_dataset = torchvision.datasets.CIFAR10(root='./data', train=False, download=True, transform =transformation)\n",
    "\n",
    "train_loader = torch.utils.data.DataLoader(train_dataset, batch_size=batch_size,shuffle=True)\n",
    "test_loader = torch.utils.data.DataLoader(test_dataset, batch_size=batch_size,shuffle=False)\n",
    "\n",
    "#classes = ('plane', 'car', 'bird', 'cat', 'deer', 'dog', 'frog', 'horse', 'ship', 'truck')"
   ]
  },
  {
   "cell_type": "markdown",
   "metadata": {},
   "source": [
    "#### Build the Model"
   ]
  },
  {
   "cell_type": "code",
   "execution_count": 12,
   "metadata": {},
   "outputs": [],
   "source": [
    "class ConvNet(nn.Module):\n",
    "    def __init__(self):\n",
    "        super(ConvNet, self).__init__()\n",
    "        self.conv1 = nn.Conv2d(3, 6, 5)\n",
    "        self.pool = nn.MaxPool2d(2, 2)\n",
    "        self.conv2 = nn.Conv2d(6, 16, 5)\n",
    "        self.fc1 = nn.Linear(16 * 5 * 5, 120)\n",
    "        self.fc2 = nn.Linear(120, 84)\n",
    "        self.fc3 = nn.Linear(84, 10)\n",
    "\n",
    "    def forward(self, x):\n",
    "        # -> n, 3, 32, 32\n",
    "        x = self.pool(F.relu(self.conv1(x)))  # -> n, 6, 14, 14\n",
    "        x = self.pool(F.relu(self.conv2(x)))  # -> n, 16, 5, 5\n",
    "        x = x.view(-1, 16 * 5 * 5)            # -> n, 400\n",
    "        x = F.relu(self.fc1(x))               # -> n, 120\n",
    "        x = F.relu(self.fc2(x))               # -> n, 84\n",
    "        x = self.fc3(x)                       # -> n, 10\n",
    "        return x"
   ]
  },
  {
   "cell_type": "markdown",
   "metadata": {},
   "source": [
    "#### Training Loop"
   ]
  },
  {
   "cell_type": "code",
   "execution_count": 16,
   "metadata": {},
   "outputs": [
    {
     "name": "stdout",
     "output_type": "stream",
     "text": [
      "Epoch [1/5], Step [2000/12500], Loss: 2.3267\n",
      "Epoch [1/5], Step [4000/12500], Loss: 2.3159\n",
      "Epoch [1/5], Step [6000/12500], Loss: 1.7092\n",
      "Epoch [1/5], Step [8000/12500], Loss: 2.2804\n",
      "Epoch [1/5], Step [10000/12500], Loss: 1.6572\n",
      "Epoch [1/5], Step [12000/12500], Loss: 2.0640\n",
      "Epoch [2/5], Step [2000/12500], Loss: 1.3956\n",
      "Epoch [2/5], Step [4000/12500], Loss: 1.9504\n",
      "Epoch [2/5], Step [6000/12500], Loss: 1.4494\n",
      "Epoch [2/5], Step [8000/12500], Loss: 0.8449\n",
      "Epoch [2/5], Step [10000/12500], Loss: 1.1278\n",
      "Epoch [2/5], Step [12000/12500], Loss: 0.9263\n",
      "Epoch [3/5], Step [2000/12500], Loss: 1.3213\n",
      "Epoch [3/5], Step [4000/12500], Loss: 2.0114\n",
      "Epoch [3/5], Step [6000/12500], Loss: 1.3584\n",
      "Epoch [3/5], Step [8000/12500], Loss: 2.3253\n",
      "Epoch [3/5], Step [10000/12500], Loss: 2.0933\n",
      "Epoch [3/5], Step [12000/12500], Loss: 1.8916\n",
      "Epoch [4/5], Step [2000/12500], Loss: 0.9613\n",
      "Epoch [4/5], Step [4000/12500], Loss: 1.3311\n",
      "Epoch [4/5], Step [6000/12500], Loss: 1.1497\n",
      "Epoch [4/5], Step [8000/12500], Loss: 0.6193\n",
      "Epoch [4/5], Step [10000/12500], Loss: 0.7680\n",
      "Epoch [4/5], Step [12000/12500], Loss: 1.9582\n",
      "Epoch [5/5], Step [2000/12500], Loss: 0.8466\n",
      "Epoch [5/5], Step [4000/12500], Loss: 1.5931\n",
      "Epoch [5/5], Step [6000/12500], Loss: 0.6294\n",
      "Epoch [5/5], Step [8000/12500], Loss: 1.5881\n",
      "Epoch [5/5], Step [10000/12500], Loss: 2.2944\n",
      "Epoch [5/5], Step [12000/12500], Loss: 1.7458\n",
      "Finished Training\n"
     ]
    }
   ],
   "source": [
    "model = ConvNet().to(device)\n",
    "\n",
    "criterion = nn.CrossEntropyLoss()\n",
    "optimizer = torch.optim.SGD(model.parameters(), lr=learning_rate)\n",
    "\n",
    "n_total_steps = len(train_loader)\n",
    "for epoch in range(num_epochs):\n",
    "    for i, (images,labels) in enumerate(train_loader):\n",
    "        # origin shape: [4, 3, 32, 32] = 4, 3, 1024\n",
    "        # input_layer: 3 input channels, 6 output channels, 5 kernel size\n",
    "        images = images.to(device)\n",
    "        labels = labels.to(device)\n",
    "\n",
    "        # Forward pass\n",
    "        outputs = model(images)\n",
    "        loss = criterion(outputs, labels)\n",
    "\n",
    "        # Backward and optimize\n",
    "        optimizer.zero_grad()\n",
    "        loss.backward()\n",
    "        optimizer.step()\n",
    "\n",
    "        if (i+1) % 2000 == 0:\n",
    "            print (f'Epoch [{epoch+1}/{num_epochs}], Step [{i+1}/{n_total_steps}], Loss: {loss.item():.4f}')\n",
    "\n",
    "print('Finished Training')"
   ]
  },
  {
   "cell_type": "markdown",
   "metadata": {},
   "source": [
    "#### Testing Loop"
   ]
  },
  {
   "cell_type": "code",
   "execution_count": 17,
   "metadata": {},
   "outputs": [
    {
     "name": "stdout",
     "output_type": "stream",
     "text": [
      "Accuracy of the network: 55.67 %\n"
     ]
    }
   ],
   "source": [
    "PATH = './cnn.pth'\n",
    "torch.save(model.state_dict(), PATH)\n",
    "\n",
    "with torch.no_grad():\n",
    "    n_correct = 0\n",
    "    n_samples = 0\n",
    "    n_class_correct = [0 for i in range(10)]\n",
    "    n_class_samples = [0 for i in range(10)]\n",
    "    for images, labels in test_loader:\n",
    "        images = images.to(device)\n",
    "        labels = labels.to(device)\n",
    "        outputs = model(images)\n",
    "        # max returns (value ,index)\n",
    "        _, predicted = torch.max(outputs, 1)\n",
    "        n_samples += labels.size(0)\n",
    "        n_correct += (predicted == labels).sum().item()\n",
    "        \n",
    "        for i in range(batch_size):\n",
    "            label = labels[i]\n",
    "            pred = predicted[i]\n",
    "            if (label == pred):\n",
    "                n_class_correct[label] += 1\n",
    "            n_class_samples[label] += 1\n",
    "\n",
    "    acc = 100.0 * n_correct / n_samples\n",
    "    print(f'Accuracy of the network: {acc} %')\n",
    "\n",
    "    for i in range(10):\n",
    "        acc = 100.0 * n_class_correct[i] / n_class_samples[i]\n",
    "        #print(f'Accuracy of {classes[i]}: {acc} %')"
   ]
  }
 ],
 "metadata": {
  "interpreter": {
   "hash": "916dbcbb3f70747c44a77c7bcd40155683ae19c65e1c03b4aa3499c5328201f1"
  },
  "kernelspec": {
   "display_name": "Python 3.9.7 64-bit",
   "language": "python",
   "name": "python3"
  },
  "language_info": {
   "codemirror_mode": {
    "name": "ipython",
    "version": 3
   },
   "file_extension": ".py",
   "mimetype": "text/x-python",
   "name": "python",
   "nbconvert_exporter": "python",
   "pygments_lexer": "ipython3",
   "version": "3.9.7"
  },
  "orig_nbformat": 4
 },
 "nbformat": 4,
 "nbformat_minor": 2
}
